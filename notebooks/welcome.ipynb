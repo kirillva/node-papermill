{
 "cells": [
  {
   "cell_type": "code",
   "execution_count": null,
   "id": "a32380b2-8aa3-44ca-9a5d-27e9b0b7a126",
   "metadata": {},
   "outputs": [],
   "source": [
    "WELCOME=PARAM1 if 'PARAM1' in locals() else 'My Welcome'\n",
    "OUTPUT_PATH=OUTPUT_DIR if 'OUTPUT_DIR' in locals() else ''"
   ]
  },
  {
   "cell_type": "code",
   "execution_count": null,
   "id": "6a2a7d27-c8e9-4e84-905b-a8fe7871845c",
   "metadata": {},
   "outputs": [],
   "source": [
    "print(WELCOME)"
   ]
  },
  {
   "cell_type": "code",
   "execution_count": null,
   "id": "3fa60ccc-b1f0-4539-bdcb-d6cb9b52fb6f",
   "metadata": {},
   "outputs": [],
   "source": [
    "with open(OUTPUT_PATH + '/welcome.txt', \"w\") as file:\n",
    "    file.write(str(WELCOME))"
   ]
  },
  {
   "cell_type": "code",
   "execution_count": null,
   "id": "fdd296a1-04f6-4f76-abf8-13b3290b5fe7",
   "metadata": {},
   "outputs": [],
   "source": []
  }
 ],
 "metadata": {
  "kernelspec": {
   "display_name": "Python 3 (ipykernel)",
   "language": "python",
   "name": "python3"
  },
  "language_info": {
   "codemirror_mode": {
    "name": "ipython",
    "version": 3
   },
   "file_extension": ".py",
   "mimetype": "text/x-python",
   "name": "python",
   "nbconvert_exporter": "python",
   "pygments_lexer": "ipython3",
   "version": "3.10.12"
  }
 },
 "nbformat": 4,
 "nbformat_minor": 5
}
